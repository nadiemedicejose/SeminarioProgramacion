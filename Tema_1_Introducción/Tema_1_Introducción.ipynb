{
  "nbformat": 4,
  "nbformat_minor": 0,
  "metadata": {
    "anaconda-cloud": {},
    "kernelspec": {
      "display_name": "Python 3",
      "language": "python",
      "name": "python3"
    },
    "language_info": {
      "codemirror_mode": {
        "name": "ipython",
        "version": 3
      },
      "file_extension": ".py",
      "mimetype": "text/x-python",
      "name": "python",
      "nbconvert_exporter": "python",
      "pygments_lexer": "ipython3",
      "version": "3.8.3"
    },
    "colab": {
      "name": "Tema 1_ Introducción.ipynb",
      "provenance": [],
      "include_colab_link": true
    }
  },
  "cells": [
    {
      "cell_type": "markdown",
      "metadata": {
        "id": "view-in-github",
        "colab_type": "text"
      },
      "source": [
        "<a href=\"https://colab.research.google.com/github/nadiemedicejose/SeminarioProgramacion/blob/master/Tema_1_Introducci%C3%B3n/Tema_1_Introducci%C3%B3n.ipynb\" target=\"_parent\"><img src=\"https://colab.research.google.com/assets/colab-badge.svg\" alt=\"Open In Colab\"/></a>"
      ]
    },
    {
      "cell_type": "markdown",
      "metadata": {
        "id": "A6vgRr_Yk4Vc"
      },
      "source": [
        "# Tema 01: Introducción\n"
      ]
    },
    {
      "cell_type": "markdown",
      "metadata": {
        "id": "l8G0_jg0k4Vf"
      },
      "source": [
        "**1) Identifica el tipo de dato (int, float, string o list) de los siguientes valores **\n",
        "```python\n",
        "\"Hola Mundo\" \n",
        "[1, 10, 100]\n",
        "-25          \n",
        "1.167       \n",
        "[\"Hola\", \"Mundo\"]  \n",
        "' '        \n",
        "```"
      ]
    },
    {
      "cell_type": "markdown",
      "metadata": {
        "id": "dqbYjv55k4Vg"
      },
      "source": [
        "String, list, int, float, list"
      ]
    },
    {
      "cell_type": "markdown",
      "metadata": {
        "id": "GRoY_FDnk4Vh"
      },
      "source": [
        "**2) Determina mentalmente (sin programar) el resultado que aparecerá por pantalla a partir de las siguientes variables:**\n",
        "```python\n",
        "a = 10\n",
        "b = -5\n",
        "c = \"Hola \"\n",
        "d = [1, 2, 3]\n",
        "```\n",
        "```python\n",
        "print(a * 5)  \n",
        "print(a - b)    \n",
        "print(c + \"Mundo\")   \n",
        "print(c * 2)        \n",
        "print(c[-1])        \n",
        "print(c[1:])    \n",
        "print(d + d)       \n",
        "```"
      ]
    },
    {
      "cell_type": "markdown",
      "metadata": {
        "id": "nscVDVTNk4Vh"
      },
      "source": [
        "50, 15, \"Hola Mundo\", \"Hola Hola \", \" \", \"ola \", [[1, 2, 3], [1, 2, 3]]"
      ]
    },
    {
      "cell_type": "markdown",
      "metadata": {
        "id": "KaU171Cik4Vi"
      },
      "source": [
        "**3) El siguiente código pretende realizar una media entre 3 números, sin embargo este código no funciona correctamente. Se pretende identificar el error y ejeutar el programa una vez que se ha solucionado"
      ]
    },
    {
      "cell_type": "code",
      "metadata": {
        "colab": {
          "base_uri": "https://localhost:8080/"
        },
        "id": "gRSvGBg1k4Vi",
        "outputId": "10c11e32-36a8-431c-89f2-97a300080fa2"
      },
      "source": [
        "numero_1 = 9\n",
        "numero_2 = 3\n",
        "numero_3 = 6\n",
        "\n",
        "media = (numero_1 + numero_2 + numero_3) / 3\n",
        "print(\"La nota media es\", media)"
      ],
      "execution_count": 1,
      "outputs": [
        {
          "output_type": "stream",
          "text": [
            "La nota media es 6.0\n"
          ],
          "name": "stdout"
        }
      ]
    },
    {
      "cell_type": "markdown",
      "metadata": {
        "id": "3kD-F9JAk4Vj"
      },
      "source": [
        "**4) A partir del ejercicio anterior, vamos a suponer que cada número es una nota, y lo que queremos esel PROMEDIO. El problema es que cada nota tiene un valor porcentual: **\n",
        "\n",
        "* La primera nota vale un 15% del total\n",
        "* La segunda nota vale un 35% del total\n",
        "* La tercera nota vale un 50% del total\n",
        "\n",
        "**Desarrolla un programa para calcular perfectamente la nota final.**"
      ]
    },
    {
      "cell_type": "code",
      "metadata": {
        "colab": {
          "base_uri": "https://localhost:8080/"
        },
        "id": "lepB9-ftk4Vj",
        "outputId": "512dae8b-b316-400d-a182-ed99f0d10e19"
      },
      "source": [
        "nota_1 = 10\n",
        "nota_2 = 7\n",
        "nota_3 = 4\n",
        "\n",
        "# Completa el ejercicio aquí\n",
        "media = (nota_1*.15 + nota_2*.35 + nota_3*.5 )\n",
        "print(\"El promedio obtenido es: \", media)"
      ],
      "execution_count": 2,
      "outputs": [
        {
          "output_type": "stream",
          "text": [
            "El promedio obtenido es:  5.949999999999999\n"
          ],
          "name": "stdout"
        }
      ]
    },
    {
      "cell_type": "markdown",
      "metadata": {
        "id": "uwA_6Ihdk4Vj"
      },
      "source": [
        "**5) La siguiente matriz (o lista con listas anidadas) debe cumplir una condición, y es que en cada fila, el cuarto elemento siempre debe ser el resultado de sumar los tres primeros. Utilizando la técnica de Slicing obten el resultado correcto\n",
        "\n",
        "*Ayuda: La función llamada sum(lista) devuelve una suma de todos los elementos de la lista"
      ]
    },
    {
      "cell_type": "code",
      "metadata": {
        "colab": {
          "base_uri": "https://localhost:8080/"
        },
        "id": "778-qvJ-k4Vk",
        "outputId": "b33f6c6d-45b4-4cd8-a4ff-6ec0761012fc"
      },
      "source": [
        "matriz = [ \n",
        "    [1, 1, 1, 3],\n",
        "    [2, 2, 2, 7],\n",
        "    [3, 3, 3, 9],\n",
        "    [4, 4, 4, 13]\n",
        "]\n",
        "\n",
        "# Completa el ejercicio aquí\n",
        "matriz[1] = matriz[1][:-1]\n",
        "matriz[1].append(sum(matriz[1]))\n",
        "matriz[3] = matriz[3][:-1]\n",
        "matriz[3].append(sum(matriz[3]))\n",
        "print(matriz)\n",
        "\n",
        "# Solución 2\n",
        "matriz[1][-1] = sum(matriz[1][:-1])\n",
        "matriz[3][-1] = sum(matriz[3][:-1])\n",
        "matriz\n"
      ],
      "execution_count": 3,
      "outputs": [
        {
          "output_type": "stream",
          "text": [
            "[[1, 1, 1, 3], [2, 2, 2, 6], [3, 3, 3, 9], [4, 4, 4, 12]]\n"
          ],
          "name": "stdout"
        },
        {
          "output_type": "execute_result",
          "data": {
            "text/plain": [
              "[[1, 1, 1, 3], [2, 2, 2, 6], [3, 3, 3, 9], [4, 4, 4, 12]]"
            ]
          },
          "metadata": {
            "tags": []
          },
          "execution_count": 3
        }
      ]
    },
    {
      "cell_type": "markdown",
      "metadata": {
        "id": "Ymtcy2qmk4Vk"
      },
      "source": [
        "**6) Al realizar una consulta en un registro hemos obtenido una cadena de texto corrupta al revés. Al parecer contiene el nombre de un alumno y la nota de un exámen. Deseamos aplicar formato de la siguiente manera:\n",
        "\n",
        "* ***Nombre*** ***Apellido*** ha sacado un ***Nota*** de nota.\n",
        "\n",
        "*Ayuda: Para voltear una cadena rápidamente utilizando slicing podemos utilizar un tercer índice -1: **cadena[::-1]** *"
      ]
    },
    {
      "cell_type": "code",
      "metadata": {
        "colab": {
          "base_uri": "https://localhost:8080/"
        },
        "id": "p3WzZSbRk4Vk",
        "outputId": "f472adcb-511c-463d-974a-4803453b250d"
      },
      "source": [
        "cadena = \"serolf nailuj,01\"\n",
        "\n",
        "# Completa el ejercicio aquí\n",
        "cadena = cadena[::-1]\n",
        "print(cadena[3:],\"ha sacado un \", cadena[:2],\"de nota\")"
      ],
      "execution_count": 4,
      "outputs": [
        {
          "output_type": "stream",
          "text": [
            "julian flores ha sacado un  10 de nota\n"
          ],
          "name": "stdout"
        }
      ]
    }
  ]
}