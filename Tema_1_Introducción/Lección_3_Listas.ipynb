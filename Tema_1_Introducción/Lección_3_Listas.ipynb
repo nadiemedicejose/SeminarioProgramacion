{
  "nbformat": 4,
  "nbformat_minor": 0,
  "metadata": {
    "kernelspec": {
      "display_name": "Python 3",
      "language": "python",
      "name": "python3"
    },
    "language_info": {
      "codemirror_mode": {
        "name": "ipython",
        "version": 3
      },
      "file_extension": ".py",
      "mimetype": "text/x-python",
      "name": "python",
      "nbconvert_exporter": "python",
      "pygments_lexer": "ipython3",
      "version": "3.8.5"
    },
    "colab": {
      "name": "Lección 3_ Listas.ipynb",
      "provenance": [],
      "include_colab_link": true
    }
  },
  "cells": [
    {
      "cell_type": "markdown",
      "metadata": {
        "id": "view-in-github",
        "colab_type": "text"
      },
      "source": [
        "<a href=\"https://colab.research.google.com/github/nadiemedicejose/SeminarioProgramacion/blob/master/Tema_1_Introducci%C3%B3n/Lecci%C3%B3n_3_Listas.ipynb\" target=\"_parent\"><img src=\"https://colab.research.google.com/assets/colab-badge.svg\" alt=\"Open In Colab\"/></a>"
      ]
    },
    {
      "cell_type": "code",
      "metadata": {
        "id": "TQqGC26qk0BI"
      },
      "source": [
        "numeros=[0,1,2,3,4,5,6,7,8,9]\n",
        "datos=[\"A\", \"cadena\", -8, 3.1416, 1, 2, 3, \"otra cadena\"]"
      ],
      "execution_count": 1,
      "outputs": []
    },
    {
      "cell_type": "code",
      "metadata": {
        "id": "5abI-QpTk0BL",
        "outputId": "6311d520-b3bb-4625-db5e-a93f70e5b592",
        "colab": {
          "base_uri": "https://localhost:8080/",
          "height": 35
        }
      },
      "source": [
        "datos[0]"
      ],
      "execution_count": 2,
      "outputs": [
        {
          "output_type": "execute_result",
          "data": {
            "application/vnd.google.colaboratory.intrinsic+json": {
              "type": "string"
            },
            "text/plain": [
              "'A'"
            ]
          },
          "metadata": {
            "tags": []
          },
          "execution_count": 2
        }
      ]
    },
    {
      "cell_type": "code",
      "metadata": {
        "id": "iCYdB4Cbk0BM",
        "outputId": "d65eff73-6219-44c7-e7b9-8fbca633505d",
        "colab": {
          "base_uri": "https://localhost:8080/"
        }
      },
      "source": [
        "datos[3]"
      ],
      "execution_count": 3,
      "outputs": [
        {
          "output_type": "execute_result",
          "data": {
            "text/plain": [
              "3.1416"
            ]
          },
          "metadata": {
            "tags": []
          },
          "execution_count": 3
        }
      ]
    },
    {
      "cell_type": "code",
      "metadata": {
        "id": "QHmKFyWik0BM",
        "outputId": "a4000394-b059-4a07-c336-de98a41d4add",
        "colab": {
          "base_uri": "https://localhost:8080/"
        }
      },
      "source": [
        "numeros + [11, 12, 13, 14, 15, 16]"
      ],
      "execution_count": 4,
      "outputs": [
        {
          "output_type": "execute_result",
          "data": {
            "text/plain": [
              "[0, 1, 2, 3, 4, 5, 6, 7, 8, 9, 11, 12, 13, 14, 15, 16]"
            ]
          },
          "metadata": {
            "tags": []
          },
          "execution_count": 4
        }
      ]
    },
    {
      "cell_type": "code",
      "metadata": {
        "id": "dn60B_gCk0BN"
      },
      "source": [
        "pares=[0,2,4,1,8,10]"
      ],
      "execution_count": 5,
      "outputs": []
    },
    {
      "cell_type": "code",
      "metadata": {
        "id": "IEQLFXplk0BN",
        "outputId": "14d903c4-a58d-4f2e-b2f3-ec4b54ac36b8",
        "colab": {
          "base_uri": "https://localhost:8080/"
        }
      },
      "source": [
        "pares[3]=6\n",
        "pares"
      ],
      "execution_count": 6,
      "outputs": [
        {
          "output_type": "execute_result",
          "data": {
            "text/plain": [
              "[0, 2, 4, 6, 8, 10]"
            ]
          },
          "metadata": {
            "tags": []
          },
          "execution_count": 6
        }
      ]
    },
    {
      "cell_type": "code",
      "metadata": {
        "id": "H7UD5Qbek0BN",
        "outputId": "984713e3-2ee2-40d6-82ff-d858092badfc",
        "colab": {
          "base_uri": "https://localhost:8080/"
        }
      },
      "source": [
        "pares.append(12)\n",
        "pares"
      ],
      "execution_count": 7,
      "outputs": [
        {
          "output_type": "execute_result",
          "data": {
            "text/plain": [
              "[0, 2, 4, 6, 8, 10, 12]"
            ]
          },
          "metadata": {
            "tags": []
          },
          "execution_count": 7
        }
      ]
    },
    {
      "cell_type": "code",
      "metadata": {
        "id": "31h9eqI4k0BO",
        "outputId": "a0e5c0ce-1207-4d11-8c7b-6c8233a3adcc",
        "colab": {
          "base_uri": "https://localhost:8080/"
        }
      },
      "source": [
        "letras=[\"a\", \"b\", \"c\", \"d\", \"e\", \"f\"]\n",
        "letras"
      ],
      "execution_count": 8,
      "outputs": [
        {
          "output_type": "execute_result",
          "data": {
            "text/plain": [
              "['a', 'b', 'c', 'd', 'e', 'f']"
            ]
          },
          "metadata": {
            "tags": []
          },
          "execution_count": 8
        }
      ]
    },
    {
      "cell_type": "code",
      "metadata": {
        "id": "dz-CXpsuk0BO",
        "outputId": "156df014-1c36-48ba-db7a-54375b4c5dfc",
        "colab": {
          "base_uri": "https://localhost:8080/"
        }
      },
      "source": [
        "letras[:3]=[\"A\", \"B\", \"C\"]\n",
        "letras"
      ],
      "execution_count": 9,
      "outputs": [
        {
          "output_type": "execute_result",
          "data": {
            "text/plain": [
              "['A', 'B', 'C', 'd', 'e', 'f']"
            ]
          },
          "metadata": {
            "tags": []
          },
          "execution_count": 9
        }
      ]
    },
    {
      "cell_type": "code",
      "metadata": {
        "id": "Pm7jv_lSk0BO",
        "outputId": "599108c3-e46c-4f83-c092-ce9f75fedfbb",
        "colab": {
          "base_uri": "https://localhost:8080/"
        }
      },
      "source": [
        "letras[0:3]=[]\n",
        "letras"
      ],
      "execution_count": 10,
      "outputs": [
        {
          "output_type": "execute_result",
          "data": {
            "text/plain": [
              "['d', 'e', 'f']"
            ]
          },
          "metadata": {
            "tags": []
          },
          "execution_count": 10
        }
      ]
    },
    {
      "cell_type": "code",
      "metadata": {
        "id": "Q6xDM_8wk0BP",
        "outputId": "524c74ff-ed40-4c72-f1a9-808accf500c5",
        "colab": {
          "base_uri": "https://localhost:8080/"
        }
      },
      "source": [
        "len(datos)"
      ],
      "execution_count": 11,
      "outputs": [
        {
          "output_type": "execute_result",
          "data": {
            "text/plain": [
              "8"
            ]
          },
          "metadata": {
            "tags": []
          },
          "execution_count": 11
        }
      ]
    },
    {
      "cell_type": "code",
      "metadata": {
        "id": "ZIUFgJXkk0BP",
        "outputId": "1df067e3-b14a-43a4-efaf-b4d42f0d0528",
        "colab": {
          "base_uri": "https://localhost:8080/"
        }
      },
      "source": [
        "impares=[1,3,5,7,9]\n",
        "impares"
      ],
      "execution_count": 12,
      "outputs": [
        {
          "output_type": "execute_result",
          "data": {
            "text/plain": [
              "[1, 3, 5, 7, 9]"
            ]
          },
          "metadata": {
            "tags": []
          },
          "execution_count": 12
        }
      ]
    },
    {
      "cell_type": "code",
      "metadata": {
        "id": "r-gIsXjVk0BP",
        "outputId": "5880374f-26c0-498a-c269-70806b5bcf34",
        "colab": {
          "base_uri": "https://localhost:8080/"
        }
      },
      "source": [
        "resultado=[pares, impares]\n",
        "resultado"
      ],
      "execution_count": 13,
      "outputs": [
        {
          "output_type": "execute_result",
          "data": {
            "text/plain": [
              "[[0, 2, 4, 6, 8, 10, 12], [1, 3, 5, 7, 9]]"
            ]
          },
          "metadata": {
            "tags": []
          },
          "execution_count": 13
        }
      ]
    },
    {
      "cell_type": "code",
      "metadata": {
        "id": "WLuOlIygk0BQ",
        "outputId": "fe38a5db-58e9-4a4c-e798-76b197778086",
        "colab": {
          "base_uri": "https://localhost:8080/"
        }
      },
      "source": [
        "resultado[-1]"
      ],
      "execution_count": 14,
      "outputs": [
        {
          "output_type": "execute_result",
          "data": {
            "text/plain": [
              "[1, 3, 5, 7, 9]"
            ]
          },
          "metadata": {
            "tags": []
          },
          "execution_count": 14
        }
      ]
    },
    {
      "cell_type": "code",
      "metadata": {
        "id": "Lv4XyRMok0BQ",
        "outputId": "d71ce56a-7c2b-4118-fbb8-234da2f768c0",
        "colab": {
          "base_uri": "https://localhost:8080/"
        }
      },
      "source": [
        "resultado[0][5]"
      ],
      "execution_count": 15,
      "outputs": [
        {
          "output_type": "execute_result",
          "data": {
            "text/plain": [
              "10"
            ]
          },
          "metadata": {
            "tags": []
          },
          "execution_count": 15
        }
      ]
    }
  ]
}