{
  "nbformat": 4,
  "nbformat_minor": 0,
  "metadata": {
    "kernelspec": {
      "display_name": "Python 3",
      "language": "python",
      "name": "python3"
    },
    "language_info": {
      "codemirror_mode": {
        "name": "ipython",
        "version": 3
      },
      "file_extension": ".py",
      "mimetype": "text/x-python",
      "name": "python",
      "nbconvert_exporter": "python",
      "pygments_lexer": "ipython3",
      "version": "3.8.5"
    },
    "colab": {
      "name": "Lección 5_ Ejercicio base.ipynb",
      "provenance": [],
      "include_colab_link": true
    }
  },
  "cells": [
    {
      "cell_type": "markdown",
      "metadata": {
        "id": "view-in-github",
        "colab_type": "text"
      },
      "source": [
        "<a href=\"https://colab.research.google.com/github/nadiemedicejose/SeminarioProgramacion/blob/master/Tema_1_Introducci%C3%B3n/Lecci%C3%B3n_5_Ejercicio_base.ipynb\" target=\"_parent\"><img src=\"https://colab.research.google.com/assets/colab-badge.svg\" alt=\"Open In Colab\"/></a>"
      ]
    },
    {
      "cell_type": "code",
      "metadata": {
        "id": "1BEWQ1CEk21I",
        "outputId": "ce3f8a9d-16b5-4d4f-9728-0ac5cc8fb2b0",
        "colab": {
          "base_uri": "https://localhost:8080/"
        }
      },
      "source": [
        "n = 0\n",
        "\n",
        "while n < 10:\n",
        "    if (n%2) == 0:\n",
        "        print(n, \"Es número PAR\")\n",
        "    else:\n",
        "        print(n, \"es número IMPAR\")\n",
        "    n = n+1"
      ],
      "execution_count": 1,
      "outputs": [
        {
          "output_type": "stream",
          "text": [
            "0 Es número PAR\n",
            "1 es número IMPAR\n",
            "2 Es número PAR\n",
            "3 es número IMPAR\n",
            "4 Es número PAR\n",
            "5 es número IMPAR\n",
            "6 Es número PAR\n",
            "7 es número IMPAR\n",
            "8 Es número PAR\n",
            "9 es número IMPAR\n"
          ],
          "name": "stdout"
        }
      ]
    },
    {
      "cell_type": "code",
      "metadata": {
        "id": "9wY_kMfwk21K"
      },
      "source": [
        ""
      ],
      "execution_count": null,
      "outputs": []
    }
  ]
}