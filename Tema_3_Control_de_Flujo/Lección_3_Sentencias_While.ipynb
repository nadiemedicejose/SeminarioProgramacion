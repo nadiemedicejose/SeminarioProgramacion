{
  "nbformat": 4,
  "nbformat_minor": 0,
  "metadata": {
    "colab": {
      "name": "Lección_3_Sentencias_While.ipynb",
      "provenance": [],
      "authorship_tag": "ABX9TyOowA7vOpIFRPdVC3i/qQyW",
      "include_colab_link": true
    },
    "kernelspec": {
      "name": "python3",
      "display_name": "Python 3"
    }
  },
  "cells": [
    {
      "cell_type": "markdown",
      "metadata": {
        "id": "view-in-github",
        "colab_type": "text"
      },
      "source": [
        "<a href=\"https://colab.research.google.com/github/nadiemedicejose/SeminarioProgramacion/blob/master/Tema_3_Control_de_Flujo/Lecci%C3%B3n_3_Sentencias_While.ipynb\" target=\"_parent\"><img src=\"https://colab.research.google.com/assets/colab-badge.svg\" alt=\"Open In Colab\"/></a>"
      ]
    },
    {
      "cell_type": "code",
      "metadata": {
        "colab": {
          "base_uri": "https://localhost:8080/"
        },
        "id": "WAm17ZGI8lEK",
        "outputId": "45476b48-7e6b-4a6b-e8f6-8c7a9379d4d7"
      },
      "source": [
        "# While\r\n",
        "c = 0\r\n",
        "\r\n",
        "while c<=10:\r\n",
        "  c += 1\r\n",
        "  print(\"En este momento el valor de la condición ha cambiado y vale: \", c)"
      ],
      "execution_count": 1,
      "outputs": [
        {
          "output_type": "stream",
          "text": [
            "En este momento el valor de la condición ha cambiado y vale:  1\n",
            "En este momento el valor de la condición ha cambiado y vale:  2\n",
            "En este momento el valor de la condición ha cambiado y vale:  3\n",
            "En este momento el valor de la condición ha cambiado y vale:  4\n",
            "En este momento el valor de la condición ha cambiado y vale:  5\n",
            "En este momento el valor de la condición ha cambiado y vale:  6\n",
            "En este momento el valor de la condición ha cambiado y vale:  7\n",
            "En este momento el valor de la condición ha cambiado y vale:  8\n",
            "En este momento el valor de la condición ha cambiado y vale:  9\n",
            "En este momento el valor de la condición ha cambiado y vale:  10\n",
            "En este momento el valor de la condición ha cambiado y vale:  11\n"
          ],
          "name": "stdout"
        }
      ]
    },
    {
      "cell_type": "code",
      "metadata": {
        "colab": {
          "base_uri": "https://localhost:8080/"
        },
        "id": "h_4L2jx69dC4",
        "outputId": "549c04e6-3ffe-4a06-ed87-f807d6485320"
      },
      "source": [
        "# While - Else\r\n",
        "c = 0\r\n",
        "\r\n",
        "while c <= 20:\r\n",
        "  c += 1\r\n",
        "  print(\"En este momento la condición a cambiado y vale: \", c)\r\n",
        "else:\r\n",
        "  print(\"En este momento el ciclo ha finalizado y c vale: \", c)"
      ],
      "execution_count": 2,
      "outputs": [
        {
          "output_type": "stream",
          "text": [
            "En este momento la condición a cambiado y vale:  1\n",
            "En este momento la condición a cambiado y vale:  2\n",
            "En este momento la condición a cambiado y vale:  3\n",
            "En este momento la condición a cambiado y vale:  4\n",
            "En este momento la condición a cambiado y vale:  5\n",
            "En este momento la condición a cambiado y vale:  6\n",
            "En este momento la condición a cambiado y vale:  7\n",
            "En este momento la condición a cambiado y vale:  8\n",
            "En este momento la condición a cambiado y vale:  9\n",
            "En este momento la condición a cambiado y vale:  10\n",
            "En este momento la condición a cambiado y vale:  11\n",
            "En este momento la condición a cambiado y vale:  12\n",
            "En este momento la condición a cambiado y vale:  13\n",
            "En este momento la condición a cambiado y vale:  14\n",
            "En este momento la condición a cambiado y vale:  15\n",
            "En este momento la condición a cambiado y vale:  16\n",
            "En este momento la condición a cambiado y vale:  17\n",
            "En este momento la condición a cambiado y vale:  18\n",
            "En este momento la condición a cambiado y vale:  19\n",
            "En este momento la condición a cambiado y vale:  20\n",
            "En este momento la condición a cambiado y vale:  21\n",
            "En este momento el ciclo ha finalizado y c vale:  21\n"
          ],
          "name": "stdout"
        }
      ]
    },
    {
      "cell_type": "code",
      "metadata": {
        "colab": {
          "base_uri": "https://localhost:8080/"
        },
        "id": "7Rl6z479-Rgz",
        "outputId": "d8bf5288-fe4e-4d5c-d621-16ddf43783b4"
      },
      "source": [
        "# While - Break\r\n",
        "# Sale del if y no continúa con el resto del else y tampoco entra al else\r\n",
        "c = 0\r\n",
        "\r\n",
        "while c <= 20:\r\n",
        "  c += 1\r\n",
        "  if (c == 3):\r\n",
        "    print(\"En este punto de ruptura, C ha tomado el valor de: \", c)\r\n",
        "    break\r\n",
        "  print(\"Ahora el valor de C ha cambiado y en este momento vale: \", c)\r\n",
        "else:\r\n",
        "  print(\"Se ha completado la iteración y C en este momento vale: \", c)"
      ],
      "execution_count": 3,
      "outputs": [
        {
          "output_type": "stream",
          "text": [
            "Ahora el valor de C ha cambiado y en este momento vale:  1\n",
            "Ahora el valor de C ha cambiado y en este momento vale:  2\n",
            "En este punto de ruptura, C ha tomado el valor de:  3\n"
          ],
          "name": "stdout"
        }
      ]
    },
    {
      "cell_type": "code",
      "metadata": {
        "colab": {
          "base_uri": "https://localhost:8080/"
        },
        "id": "PsW8GZQiATmD",
        "outputId": "2f6e7d63-d9c2-4ef5-b8e0-3fd11750dcbd"
      },
      "source": [
        "# While - Continue\r\n",
        "c = 0\r\n",
        "\r\n",
        "while c <= 10:\r\n",
        "  c += 1\r\n",
        "  if (c == 3):\r\n",
        "    print(\"Continuará con la siguiente iteración\")\r\n",
        "    continue\r\n",
        "  print(\"Ahora el valor ha cambiado y C en este momento toma el valor de: \", c)\r\n",
        "else:\r\n",
        "  print(\"Se ha completado la iteración y ahora el valor de C es: \", c)"
      ],
      "execution_count": 4,
      "outputs": [
        {
          "output_type": "stream",
          "text": [
            "Ahora el valor ha cambiado y C en este momento toma el valor de:  1\n",
            "Ahora el valor ha cambiado y C en este momento toma el valor de:  2\n",
            "Continuará con la siguiente iteración\n",
            "Ahora el valor ha cambiado y C en este momento toma el valor de:  4\n",
            "Ahora el valor ha cambiado y C en este momento toma el valor de:  5\n",
            "Ahora el valor ha cambiado y C en este momento toma el valor de:  6\n",
            "Ahora el valor ha cambiado y C en este momento toma el valor de:  7\n",
            "Ahora el valor ha cambiado y C en este momento toma el valor de:  8\n",
            "Ahora el valor ha cambiado y C en este momento toma el valor de:  9\n",
            "Ahora el valor ha cambiado y C en este momento toma el valor de:  10\n",
            "Ahora el valor ha cambiado y C en este momento toma el valor de:  11\n",
            "Se ha completado la iteración y ahora el valor de C es:  11\n"
          ],
          "name": "stdout"
        }
      ]
    }
  ]
}