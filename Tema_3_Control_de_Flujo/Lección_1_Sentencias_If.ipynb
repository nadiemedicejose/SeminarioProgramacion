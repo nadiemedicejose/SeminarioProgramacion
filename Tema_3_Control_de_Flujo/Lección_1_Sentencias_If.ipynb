{
  "nbformat": 4,
  "nbformat_minor": 0,
  "metadata": {
    "kernelspec": {
      "display_name": "Python 3",
      "language": "python",
      "name": "python3"
    },
    "language_info": {
      "codemirror_mode": {
        "name": "ipython",
        "version": 3
      },
      "file_extension": ".py",
      "mimetype": "text/x-python",
      "name": "python",
      "nbconvert_exporter": "python",
      "pygments_lexer": "ipython3",
      "version": "3.8.5"
    },
    "colab": {
      "name": "Lección 1. Sentencias If.ipynb",
      "provenance": [],
      "include_colab_link": true
    }
  },
  "cells": [
    {
      "cell_type": "markdown",
      "metadata": {
        "id": "view-in-github",
        "colab_type": "text"
      },
      "source": [
        "<a href=\"https://colab.research.google.com/github/nadiemedicejose/SeminarioProgramacion/blob/master/Tema_3_Control_de_Flujo/Lecci%C3%B3n_1_Sentencias_If.ipynb\" target=\"_parent\"><img src=\"https://colab.research.google.com/assets/colab-badge.svg\" alt=\"Open In Colab\"/></a>"
      ]
    },
    {
      "cell_type": "code",
      "metadata": {
        "colab": {
          "base_uri": "https://localhost:8080/"
        },
        "id": "3ZSFdSl5odTE",
        "outputId": "b5d51e7f-cab5-46f7-99b1-3ab450b96bd2"
      },
      "source": [
        "if True:\n",
        "    print(\"Se cumple con la condición\")\n",
        "    print(\"Nuevamente se cumple\")"
      ],
      "execution_count": 1,
      "outputs": [
        {
          "output_type": "stream",
          "text": [
            "Se cumple con la condición\n",
            "Nuevamente se cumple\n"
          ],
          "name": "stdout"
        }
      ]
    },
    {
      "cell_type": "code",
      "metadata": {
        "id": "h-XU5kU1odTM"
      },
      "source": [
        "if False:\n",
        "    print(\"Se cumple la condición\")"
      ],
      "execution_count": 2,
      "outputs": []
    },
    {
      "cell_type": "code",
      "metadata": {
        "colab": {
          "base_uri": "https://localhost:8080/"
        },
        "id": "czWi7zZzodTN",
        "outputId": "100c75b6-6cfd-4fd5-cd63-6a0562c379a8"
      },
      "source": [
        "if not False:\n",
        "    print(\"Se cumple la condición\")"
      ],
      "execution_count": 3,
      "outputs": [
        {
          "output_type": "stream",
          "text": [
            "Se cumple la condición\n"
          ],
          "name": "stdout"
        }
      ]
    },
    {
      "cell_type": "code",
      "metadata": {
        "colab": {
          "base_uri": "https://localhost:8080/"
        },
        "id": "Jt-HCZkXodTN",
        "outputId": "882680fb-8cb4-4399-f1b2-a3b7ec16befd"
      },
      "source": [
        "a = 5\n",
        "if a == 2:\n",
        "    print(\"El valor de la variable capturada es: 2\")\n",
        "if a == 5:\n",
        "    print(\"El valor de la variable capturada es: 5\")"
      ],
      "execution_count": 4,
      "outputs": [
        {
          "output_type": "stream",
          "text": [
            "El valor de la variable capturada es: 5\n"
          ],
          "name": "stdout"
        }
      ]
    },
    {
      "cell_type": "code",
      "metadata": {
        "colab": {
          "base_uri": "https://localhost:8080/"
        },
        "id": "aHjdP7ShodTN",
        "outputId": "6b2f784d-11fe-4b8e-c508-7f4c4b5029e0"
      },
      "source": [
        "a = 5\n",
        "b = 10\n",
        "\n",
        "if a == 5:\n",
        "    print(\"A vale: \", a)\n",
        "    if b == 10:\n",
        "        print(\"B vale: \", b)"
      ],
      "execution_count": 5,
      "outputs": [
        {
          "output_type": "stream",
          "text": [
            "A vale:  5\n",
            "B vale:  10\n"
          ],
          "name": "stdout"
        }
      ]
    },
    {
      "cell_type": "code",
      "metadata": {
        "colab": {
          "base_uri": "https://localhost:8080/"
        },
        "id": "j4Mbot6NodTO",
        "outputId": "8d4150d8-b8aa-4c14-82b8-b2bdd27b4181"
      },
      "source": [
        "if a == 5 and b == 10:\n",
        "    print(\"A vale 5 y B vale 10\")"
      ],
      "execution_count": 6,
      "outputs": [
        {
          "output_type": "stream",
          "text": [
            "A vale 5 y B vale 10\n"
          ],
          "name": "stdout"
        }
      ]
    },
    {
      "cell_type": "code",
      "metadata": {
        "colab": {
          "base_uri": "https://localhost:8080/"
        },
        "id": "VWUqEhq1odTO",
        "outputId": "a01b8f83-e94a-4514-b199-028c0aa7952f"
      },
      "source": [
        "n = 3\n",
        "if n % 2 == 0:\n",
        "    print(n, \" es número par\")\n",
        "else:\n",
        "    print(n, \" es número impar\")"
      ],
      "execution_count": 7,
      "outputs": [
        {
          "output_type": "stream",
          "text": [
            "3  es número impar\n"
          ],
          "name": "stdout"
        }
      ]
    },
    {
      "cell_type": "code",
      "metadata": {
        "colab": {
          "base_uri": "https://localhost:8080/"
        },
        "id": "fBLkFODvodTP",
        "outputId": "735b112b-5586-4240-f0e7-c98f4752554d"
      },
      "source": [
        "comando = \"Salir\"\n",
        "\n",
        "if comando == \"Entrar\":\n",
        "    print(\"¡Bienvenido al sistema!\")\n",
        "elif comando == \"Saludar\":\n",
        "    print(\"Se envía un saludo por parte del sistema\")\n",
        "elif comando == \"Salir\":\n",
        "    print(\"Saliendo del sistema...\")\n",
        "else:\n",
        "    print(\"El comando no se reconoce!\")"
      ],
      "execution_count": 8,
      "outputs": [
        {
          "output_type": "stream",
          "text": [
            "Saliendo del sistema...\n"
          ],
          "name": "stdout"
        }
      ]
    },
    {
      "cell_type": "code",
      "metadata": {
        "colab": {
          "base_uri": "https://localhost:8080/"
        },
        "id": "FaOgCJQsodTP",
        "outputId": "a6087848-60db-40f9-8985-f12f246ea88b"
      },
      "source": [
        "cal = float(input(\"Introduce una calificación: \"))\n",
        "\n",
        "if cal >= 9:\n",
        "    print(\"Sobresaliente\")\n",
        "elif cal >= 7:\n",
        "    print(\"Notable\")\n",
        "elif cal >= 6:\n",
        "    print(\"Bien\")\n",
        "elif cal >= 5:\n",
        "    print(\"Suficiente\")\n",
        "else:\n",
        "    print(\"Insuficiente\")"
      ],
      "execution_count": 9,
      "outputs": [
        {
          "output_type": "stream",
          "text": [
            "Introduce una calificación: 8\n",
            "Notable\n"
          ],
          "name": "stdout"
        }
      ]
    },
    {
      "cell_type": "code",
      "metadata": {
        "colab": {
          "base_uri": "https://localhost:8080/"
        },
        "id": "I7QhC89kodTP",
        "outputId": "741027b9-5c09-4a5a-ccdb-1c1f519e9784"
      },
      "source": [
        "cal = float(input(\"Introduce una calificación: \"))\n",
        "\n",
        "if cal >= 9:\n",
        "    print(\"Sobresaliente\")\n",
        "if cal >= 7 and cal < 9:\n",
        "    print(\"Notable\")\n",
        "if cal >= 6 and cal < 7:\n",
        "    print(\"Bien\")\n",
        "if cal >= 5 and cal < 6:\n",
        "    print(\"Suficiente\")\n",
        "if cal < 5:\n",
        "    print(\"Insuficiente\")"
      ],
      "execution_count": 10,
      "outputs": [
        {
          "output_type": "stream",
          "text": [
            "Introduce una calificación: 7\n",
            "Notable\n"
          ],
          "name": "stdout"
        }
      ]
    }
  ]
}