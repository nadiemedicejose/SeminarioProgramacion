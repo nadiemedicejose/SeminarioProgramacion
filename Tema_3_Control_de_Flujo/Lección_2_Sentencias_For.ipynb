{
  "nbformat": 4,
  "nbformat_minor": 0,
  "metadata": {
    "colab": {
      "name": "Lección 2. Sentencias For.ipynb",
      "provenance": [],
      "authorship_tag": "ABX9TyO0GW51AAJR2EeiDVVNH81x",
      "include_colab_link": true
    },
    "kernelspec": {
      "name": "python3",
      "display_name": "Python 3"
    }
  },
  "cells": [
    {
      "cell_type": "markdown",
      "metadata": {
        "id": "view-in-github",
        "colab_type": "text"
      },
      "source": [
        "<a href=\"https://colab.research.google.com/github/nadiemedicejose/SeminarioProgramacion/blob/master/Tema_3_Control_de_Flujo/Lecci%C3%B3n_2_Sentencias_For.ipynb\" target=\"_parent\"><img src=\"https://colab.research.google.com/assets/colab-badge.svg\" alt=\"Open In Colab\"/></a>"
      ]
    },
    {
      "cell_type": "code",
      "metadata": {
        "colab": {
          "base_uri": "https://localhost:8080/"
        },
        "id": "mHuC-p4DFzNc",
        "outputId": "ff42788c-79aa-44bb-9c0d-6f966b6c6dc5"
      },
      "source": [
        "numeros = [0, 1, 2, 3, 4, 5, 6, 7, 8, 9, 10]\r\n",
        "indice = 0\r\n",
        "\r\n",
        "while (indice < len(numeros)):\r\n",
        "\tprint(numeros[indice])\r\n",
        "\tindice += 1"
      ],
      "execution_count": 1,
      "outputs": [
        {
          "output_type": "stream",
          "text": [
            "0\n",
            "1\n",
            "2\n",
            "3\n",
            "4\n",
            "5\n",
            "6\n",
            "7\n",
            "8\n",
            "9\n",
            "10\n"
          ],
          "name": "stdout"
        }
      ]
    },
    {
      "cell_type": "code",
      "metadata": {
        "colab": {
          "base_uri": "https://localhost:8080/"
        },
        "id": "_GvNgTCpGYVe",
        "outputId": "b1690228-ad88-4c27-cee8-8d6cfb857af4"
      },
      "source": [
        "# Recorrer la lista con una estructura FOR\r\n",
        "for x in numeros:\r\n",
        "\tprint(x)"
      ],
      "execution_count": 2,
      "outputs": [
        {
          "output_type": "stream",
          "text": [
            "0\n",
            "1\n",
            "2\n",
            "3\n",
            "4\n",
            "5\n",
            "6\n",
            "7\n",
            "8\n",
            "9\n",
            "10\n"
          ],
          "name": "stdout"
        }
      ]
    },
    {
      "cell_type": "code",
      "metadata": {
        "colab": {
          "base_uri": "https://localhost:8080/"
        },
        "id": "3u-wzxxIGdN7",
        "outputId": "d0716656-9e70-46f6-8b1d-7fe82e4624c1"
      },
      "source": [
        "for numero in numeros:\r\n",
        "\tnumero *= 10\r\n",
        "\tprint(numero)"
      ],
      "execution_count": 3,
      "outputs": [
        {
          "output_type": "stream",
          "text": [
            "0\n",
            "10\n",
            "20\n",
            "30\n",
            "40\n",
            "50\n",
            "60\n",
            "70\n",
            "80\n",
            "90\n",
            "100\n"
          ],
          "name": "stdout"
        }
      ]
    },
    {
      "cell_type": "code",
      "metadata": {
        "colab": {
          "base_uri": "https://localhost:8080/"
        },
        "id": "vFBcc-45GfmH",
        "outputId": "3fd02087-3c65-4789-d064-bffad2a680a5"
      },
      "source": [
        "# ¿Se modificó el contenido de la lista?\r\n",
        "numeros"
      ],
      "execution_count": 4,
      "outputs": [
        {
          "output_type": "execute_result",
          "data": {
            "text/plain": [
              "[0, 1, 2, 3, 4, 5, 6, 7, 8, 9, 10]"
            ]
          },
          "metadata": {
            "tags": []
          },
          "execution_count": 4
        }
      ]
    },
    {
      "cell_type": "code",
      "metadata": {
        "id": "zRjODxiqGhx-"
      },
      "source": [
        "# Modificar el valor contenido en los elementos de la lista\r\n",
        "numeros = [0, 1, 2, 3, 4, 5, 6, 7, 8, 9, 10]\r\n",
        "indice = 0\r\n",
        "for numero in numeros:\r\n",
        "\tnumeros[indice] *= 10\r\n",
        "\tindice += 1"
      ],
      "execution_count": 5,
      "outputs": []
    },
    {
      "cell_type": "code",
      "metadata": {
        "colab": {
          "base_uri": "https://localhost:8080/"
        },
        "id": "BS8v6oGwGvpQ",
        "outputId": "8d64f14f-ea6b-40ca-d707-03515e4e801d"
      },
      "source": [
        "# ¿Cuánto vale la lista?\r\n",
        "numeros"
      ],
      "execution_count": 6,
      "outputs": [
        {
          "output_type": "execute_result",
          "data": {
            "text/plain": [
              "[0, 10, 20, 30, 40, 50, 60, 70, 80, 90, 100]"
            ]
          },
          "metadata": {
            "tags": []
          },
          "execution_count": 6
        }
      ]
    },
    {
      "cell_type": "code",
      "metadata": {
        "id": "HI8w3y8VG1VU"
      },
      "source": [
        "# ¿Existen otras maneras de modificar los elementos de una lista?\r\n",
        "# La respuesta es sí, lo haremos con la función ENUMERATE\r\n",
        "numeros = [0, 1, 2, 3, 4, 5, 6, 7, 8, 9, 10]\r\n",
        "\r\n",
        "for indice, numero in enumerate(numeros):\r\n",
        "\tnumeros[indice] *= 20"
      ],
      "execution_count": 7,
      "outputs": []
    },
    {
      "cell_type": "code",
      "metadata": {
        "colab": {
          "base_uri": "https://localhost:8080/"
        },
        "id": "kPF2lDqdG_mj",
        "outputId": "de20e357-6ce4-45c8-bd5f-b2d69c61f12a"
      },
      "source": [
        "# ¿Cuánto vale la lista?\r\n",
        "numeros"
      ],
      "execution_count": 8,
      "outputs": [
        {
          "output_type": "execute_result",
          "data": {
            "text/plain": [
              "[0, 20, 40, 60, 80, 100, 120, 140, 160, 180, 200]"
            ]
          },
          "metadata": {
            "tags": []
          },
          "execution_count": 8
        }
      ]
    },
    {
      "cell_type": "code",
      "metadata": {
        "colab": {
          "base_uri": "https://localhost:8080/"
        },
        "id": "FqfVQ58tHC_R",
        "outputId": "5331b018-26a8-4fb0-9688-9b25b8b71500"
      },
      "source": [
        "# ¿Podemos recorrer los caracteres contenidos en una cadena de texto?\r\n",
        "cadena = \"BIENVENIDOS\"\r\n",
        "\r\n",
        "for caracter in cadena:\r\n",
        "\tprint(caracter)"
      ],
      "execution_count": 9,
      "outputs": [
        {
          "output_type": "stream",
          "text": [
            "B\n",
            "I\n",
            "E\n",
            "N\n",
            "V\n",
            "E\n",
            "N\n",
            "I\n",
            "D\n",
            "O\n",
            "S\n"
          ],
          "name": "stdout"
        }
      ]
    },
    {
      "cell_type": "code",
      "metadata": {
        "colab": {
          "base_uri": "https://localhost:8080/",
          "height": 197
        },
        "id": "kf4XiFnYHF0C",
        "outputId": "5d26c51a-b30b-4cbd-f430-16ce051047df"
      },
      "source": [
        "# ¿Podemos modificar los caracteres, contenidos en la cadena?\r\n",
        "# Las cadenas dos inmutables, es decir no se pueden cambiar sus caracteres\r\n",
        "for i, c in enumerate(cadena):\r\n",
        "\tcadena[i] = \"*\""
      ],
      "execution_count": 10,
      "outputs": [
        {
          "output_type": "error",
          "ename": "TypeError",
          "evalue": "ignored",
          "traceback": [
            "\u001b[0;31m---------------------------------------------------------------------------\u001b[0m",
            "\u001b[0;31mTypeError\u001b[0m                                 Traceback (most recent call last)",
            "\u001b[0;32m<ipython-input-10-c5d19543dc0e>\u001b[0m in \u001b[0;36m<module>\u001b[0;34m()\u001b[0m\n\u001b[1;32m      2\u001b[0m \u001b[0;31m# Las cadenas dos inmutables, es decir no se pueden cambiar sus caracteres\u001b[0m\u001b[0;34m\u001b[0m\u001b[0;34m\u001b[0m\u001b[0;34m\u001b[0m\u001b[0m\n\u001b[1;32m      3\u001b[0m \u001b[0;32mfor\u001b[0m \u001b[0mi\u001b[0m\u001b[0;34m,\u001b[0m \u001b[0mc\u001b[0m \u001b[0;32min\u001b[0m \u001b[0menumerate\u001b[0m\u001b[0;34m(\u001b[0m\u001b[0mcadena\u001b[0m\u001b[0;34m)\u001b[0m\u001b[0;34m:\u001b[0m\u001b[0;34m\u001b[0m\u001b[0;34m\u001b[0m\u001b[0m\n\u001b[0;32m----> 4\u001b[0;31m         \u001b[0mcadena\u001b[0m\u001b[0;34m[\u001b[0m\u001b[0mi\u001b[0m\u001b[0;34m]\u001b[0m \u001b[0;34m=\u001b[0m \u001b[0;34m\"*\"\u001b[0m\u001b[0;34m\u001b[0m\u001b[0;34m\u001b[0m\u001b[0m\n\u001b[0m",
            "\u001b[0;31mTypeError\u001b[0m: 'str' object does not support item assignment"
          ]
        }
      ]
    },
    {
      "cell_type": "code",
      "metadata": {
        "colab": {
          "base_uri": "https://localhost:8080/",
          "height": 35
        },
        "id": "62m3IhbRHIov",
        "outputId": "7e9fcbd6-e112-4160-fa1e-f1c93e6ca48b"
      },
      "source": [
        "# Solución alterna\r\n",
        "cadena = \"BIENVENIDOS\"\r\n",
        "cadena2 = \"\"\r\n",
        "\r\n",
        "for caracter in cadena:\r\n",
        "\tcadena2 += \"Y\"\r\n",
        "\r\n",
        "cadena2"
      ],
      "execution_count": 11,
      "outputs": [
        {
          "output_type": "execute_result",
          "data": {
            "application/vnd.google.colaboratory.intrinsic+json": {
              "type": "string"
            },
            "text/plain": [
              "'YYYYYYYYYYY'"
            ]
          },
          "metadata": {
            "tags": []
          },
          "execution_count": 11
        }
      ]
    }
  ]
}