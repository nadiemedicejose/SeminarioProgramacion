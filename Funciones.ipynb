{
  "nbformat": 4,
  "nbformat_minor": 0,
  "metadata": {
    "colab": {
      "name": "Funciones.ipynb",
      "provenance": [],
      "authorship_tag": "ABX9TyObamxNqbxUttXhwsl821u/",
      "include_colab_link": true
    },
    "kernelspec": {
      "name": "python3",
      "display_name": "Python 3"
    }
  },
  "cells": [
    {
      "cell_type": "markdown",
      "metadata": {
        "id": "view-in-github",
        "colab_type": "text"
      },
      "source": [
        "<a href=\"https://colab.research.google.com/github/nadiemedicejose/SeminarioProgramacion/blob/master/Funciones.ipynb\" target=\"_parent\"><img src=\"https://colab.research.google.com/assets/colab-badge.svg\" alt=\"Open In Colab\"/></a>"
      ]
    },
    {
      "cell_type": "code",
      "metadata": {
        "colab": {
          "base_uri": "https://localhost:8080/"
        },
        "id": "8lWXVQeMCjsP",
        "outputId": "efa444c3-2c33-45d0-ef15-104d0c14669c"
      },
      "source": [
        "# Sintaxis básica para la creación de las funciones\r\n",
        "def saludar():\r\n",
        "  print(\"Bienvendios al curso de programación\")\r\n",
        "\r\n",
        "# Invocación de la función\r\n",
        "saludar()"
      ],
      "execution_count": null,
      "outputs": [
        {
          "output_type": "stream",
          "text": [
            "Bienvendios al curso de programación\n"
          ],
          "name": "stdout"
        }
      ]
    },
    {
      "cell_type": "code",
      "metadata": {
        "colab": {
          "base_uri": "https://localhost:8080/"
        },
        "id": "qgSNke6zDXYp",
        "outputId": "4dd01adf-27c8-4b92-ae2d-a097245667ba"
      },
      "source": [
        "# Ejemplo: función que dibuje la tabla de multiplicación del 10\r\n",
        "def dibujar_Tabla_Diez():\r\n",
        "  for i in range(11):\r\n",
        "    print(\"10 * \", i, \" = \", i * 10)\r\n",
        "\r\n",
        "# Invocar la función\r\n",
        "dibujar_Tabla_Diez()"
      ],
      "execution_count": null,
      "outputs": [
        {
          "output_type": "stream",
          "text": [
            "10 *  0  =  0\n",
            "10 *  1  =  10\n",
            "10 *  2  =  20\n",
            "10 *  3  =  30\n",
            "10 *  4  =  40\n",
            "10 *  5  =  50\n",
            "10 *  6  =  60\n",
            "10 *  7  =  70\n",
            "10 *  8  =  80\n",
            "10 *  9  =  90\n",
            "10 *  10  =  100\n"
          ],
          "name": "stdout"
        }
      ]
    },
    {
      "cell_type": "code",
      "metadata": {
        "colab": {
          "base_uri": "https://localhost:8080/"
        },
        "id": "8rU6-WOfNfnC",
        "outputId": "e4ad0c2c-e4ff-4f48-c546-c4ec35c34a6c"
      },
      "source": [
        "# Creamos una función\r\n",
        "def resta (a = None, b = None):\r\n",
        "  if a == None or b == None:\r\n",
        "    print(\"Error, debería enviar en dos números de la función\")\r\n",
        "    return\r\n",
        "  else:\r\n",
        "    return a - b\r\n",
        "\r\n",
        "# Invocamos en función\r\n",
        "resta(500 - 5)"
      ],
      "execution_count": null,
      "outputs": [
        {
          "output_type": "stream",
          "text": [
            "Error, debería enviar en dos números de la función\n"
          ],
          "name": "stdout"
        }
      ]
    },
    {
      "cell_type": "code",
      "metadata": {
        "colab": {
          "base_uri": "https://localhost:8080/"
        },
        "id": "OzQJArEQOGCT",
        "outputId": "798502d6-546a-4250-f3d9-2b5a813e1f2e"
      },
      "source": [
        "# Creamos una función que retorne una cadena\r\n",
        "def test_cadena():\r\n",
        "  print('Este es un segundo mensaje')\r\n",
        "  return('Estamos retornando una cadena')\r\n",
        "  print('Este es un tercer mensaje')\r\n",
        "\r\n",
        "# Invocamos la función\r\n",
        "test_cadena"
      ],
      "execution_count": null,
      "outputs": [
        {
          "output_type": "execute_result",
          "data": {
            "text/plain": [
              "<function __main__.test_cadena>"
            ]
          },
          "metadata": {
            "tags": []
          },
          "execution_count": 2
        }
      ]
    },
    {
      "cell_type": "code",
      "metadata": {
        "colab": {
          "base_uri": "https://localhost:8080/",
          "height": 52
        },
        "id": "W8mFw0x_O8mp",
        "outputId": "8e125ba1-32b1-48a2-a61c-ba12bcff3dc6"
      },
      "source": [
        "# Podemos concatenar el resultado de la función, a otros tipos de datos?\r\n",
        "c = test_cadena()\r\n",
        "c"
      ],
      "execution_count": null,
      "outputs": [
        {
          "output_type": "stream",
          "text": [
            "Este es un segundo mensaje\n"
          ],
          "name": "stdout"
        },
        {
          "output_type": "execute_result",
          "data": {
            "application/vnd.google.colaboratory.intrinsic+json": {
              "type": "string"
            },
            "text/plain": [
              "'Estamos retornando una cadena'"
            ]
          },
          "metadata": {
            "tags": []
          },
          "execution_count": 3
        }
      ]
    },
    {
      "cell_type": "code",
      "metadata": {
        "colab": {
          "base_uri": "https://localhost:8080/"
        },
        "id": "8UFdsdB3PFY0",
        "outputId": "c773d9e3-5f9d-4140-c045-2c900b87c943"
      },
      "source": [
        "# Utilizando el RETURN, podemos imprimir listas?\r\n",
        "def test_Listas():\r\n",
        "  return[0,1,2,3,4,5,6,7,8,9,10]\r\n",
        "\r\n",
        "# Invocamos la función\r\n",
        "(test_Listas()[5:-1])"
      ],
      "execution_count": null,
      "outputs": [
        {
          "output_type": "execute_result",
          "data": {
            "text/plain": [
              "[5, 6, 7, 8, 9]"
            ]
          },
          "metadata": {
            "tags": []
          },
          "execution_count": 4
        }
      ]
    },
    {
      "cell_type": "code",
      "metadata": {
        "colab": {
          "base_uri": "https://localhost:8080/"
        },
        "id": "-8CBWucZPyRk",
        "outputId": "34de29f7-b91a-4597-c7c2-0323898ad696"
      },
      "source": [
        "# Utilizando las funciones, devolver múltiples valores, separados por comas\r\n",
        "def test_valores():\r\n",
        "  return \"Una cadena\", [0,1,2,3,4,5,6,7,8,9,10],38745\r\n",
        "\r\n",
        "# Invocamos la función\r\n",
        "test_valores()"
      ],
      "execution_count": null,
      "outputs": [
        {
          "output_type": "execute_result",
          "data": {
            "text/plain": [
              "('Una cadena', [0, 1, 2, 3, 4, 5, 6, 7, 8, 9, 10], 38745)"
            ]
          },
          "metadata": {
            "tags": []
          },
          "execution_count": 5
        }
      ]
    },
    {
      "cell_type": "code",
      "metadata": {
        "colab": {
          "base_uri": "https://localhost:8080/"
        },
        "id": "2ICPy8RRQIEp",
        "outputId": "3a25f51c-73ed-4ae9-99e3-6ecb8347409d"
      },
      "source": [
        "# Podemos realizar una múltiple asignación?\r\n",
        "# Asignación a múltiples variables\r\n",
        "c, l, n = test_valores()\r\n",
        "\r\n",
        "# Invocamos la función\r\n",
        "print(c)\r\n",
        "print(l)\r\n",
        "print(n)"
      ],
      "execution_count": null,
      "outputs": [
        {
          "output_type": "stream",
          "text": [
            "Una cadena\n",
            "[0, 1, 2, 3, 4, 5, 6, 7, 8, 9, 10]\n",
            "38745\n"
          ],
          "name": "stdout"
        }
      ]
    }
  ]
}