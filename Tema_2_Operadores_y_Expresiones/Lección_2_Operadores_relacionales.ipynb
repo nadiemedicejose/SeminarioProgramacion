{
  "nbformat": 4,
  "nbformat_minor": 0,
  "metadata": {
    "kernelspec": {
      "display_name": "Python 3",
      "language": "python",
      "name": "python3"
    },
    "language_info": {
      "codemirror_mode": {
        "name": "ipython",
        "version": 3
      },
      "file_extension": ".py",
      "mimetype": "text/x-python",
      "name": "python",
      "nbconvert_exporter": "python",
      "pygments_lexer": "ipython3",
      "version": "3.8.5"
    },
    "colab": {
      "name": "Lección 2. Operadores relacionales.ipynb",
      "provenance": [],
      "include_colab_link": true
    }
  },
  "cells": [
    {
      "cell_type": "markdown",
      "metadata": {
        "id": "view-in-github",
        "colab_type": "text"
      },
      "source": [
        "<a href=\"https://colab.research.google.com/github/nadiemedicejose/SeminarioProgramacion/blob/master/Tema_2_Operadores_y_Expresiones/Lecci%C3%B3n_2_Operadores_relacionales.ipynb\" target=\"_parent\"><img src=\"https://colab.research.google.com/assets/colab-badge.svg\" alt=\"Open In Colab\"/></a>"
      ]
    },
    {
      "cell_type": "code",
      "metadata": {
        "id": "4NMLyvZHmgPz",
        "outputId": "4d8d7dad-5855-49a7-b199-ca61fedbed75",
        "colab": {
          "base_uri": "https://localhost:8080/"
        }
      },
      "source": [
        "3 == 2 # Igual que"
      ],
      "execution_count": 1,
      "outputs": [
        {
          "output_type": "execute_result",
          "data": {
            "text/plain": [
              "False"
            ]
          },
          "metadata": {
            "tags": []
          },
          "execution_count": 1
        }
      ]
    },
    {
      "cell_type": "code",
      "metadata": {
        "id": "Myv4YJMXmgP1",
        "outputId": "efbaaee3-577e-467c-99c1-daafd6bb4a5d",
        "colab": {
          "base_uri": "https://localhost:8080/"
        }
      },
      "source": [
        "3 != 2 # Distinto que"
      ],
      "execution_count": 2,
      "outputs": [
        {
          "output_type": "execute_result",
          "data": {
            "text/plain": [
              "True"
            ]
          },
          "metadata": {
            "tags": []
          },
          "execution_count": 2
        }
      ]
    },
    {
      "cell_type": "code",
      "metadata": {
        "id": "9sh_sS5emgP3",
        "outputId": "00ed7371-f791-4598-e2e6-fd06a85b18ea",
        "colab": {
          "base_uri": "https://localhost:8080/"
        }
      },
      "source": [
        "3 > 2 # Mayor que"
      ],
      "execution_count": 3,
      "outputs": [
        {
          "output_type": "execute_result",
          "data": {
            "text/plain": [
              "True"
            ]
          },
          "metadata": {
            "tags": []
          },
          "execution_count": 3
        }
      ]
    },
    {
      "cell_type": "code",
      "metadata": {
        "id": "EtrE-cH-mgP4",
        "outputId": "073bb5c7-424d-4e56-d57d-9883c39f9900",
        "colab": {
          "base_uri": "https://localhost:8080/"
        }
      },
      "source": [
        "3 < 2 # Menor que"
      ],
      "execution_count": 4,
      "outputs": [
        {
          "output_type": "execute_result",
          "data": {
            "text/plain": [
              "False"
            ]
          },
          "metadata": {
            "tags": []
          },
          "execution_count": 4
        }
      ]
    },
    {
      "cell_type": "code",
      "metadata": {
        "id": "ZhxsD55EmgP5",
        "outputId": "b8a49937-db1c-4eb8-fd37-fb409441b689",
        "colab": {
          "base_uri": "https://localhost:8080/"
        }
      },
      "source": [
        "3 >= 2 # Mayor o igual que"
      ],
      "execution_count": 5,
      "outputs": [
        {
          "output_type": "execute_result",
          "data": {
            "text/plain": [
              "True"
            ]
          },
          "metadata": {
            "tags": []
          },
          "execution_count": 5
        }
      ]
    },
    {
      "cell_type": "code",
      "metadata": {
        "id": "K5D2F1F6mgP5",
        "outputId": "f888a4bc-768b-4518-debb-76e54bfe602c",
        "colab": {
          "base_uri": "https://localhost:8080/"
        }
      },
      "source": [
        "3 <= 3 # Menor o igual que"
      ],
      "execution_count": 6,
      "outputs": [
        {
          "output_type": "execute_result",
          "data": {
            "text/plain": [
              "True"
            ]
          },
          "metadata": {
            "tags": []
          },
          "execution_count": 6
        }
      ]
    },
    {
      "cell_type": "code",
      "metadata": {
        "id": "yOE3HpznmgP6",
        "outputId": "34825901-df0e-4ce3-d23e-87d2470790f0",
        "colab": {
          "base_uri": "https://localhost:8080/"
        }
      },
      "source": [
        "a = 10\n",
        "b = 5\n",
        "\n",
        "a > b # Mayor que"
      ],
      "execution_count": 7,
      "outputs": [
        {
          "output_type": "execute_result",
          "data": {
            "text/plain": [
              "True"
            ]
          },
          "metadata": {
            "tags": []
          },
          "execution_count": 7
        }
      ]
    },
    {
      "cell_type": "code",
      "metadata": {
        "id": "YPyNBQNTmgP6",
        "outputId": "ca63bb09-7981-45fc-cd09-ae694a876bdb",
        "colab": {
          "base_uri": "https://localhost:8080/"
        }
      },
      "source": [
        "b != a"
      ],
      "execution_count": 8,
      "outputs": [
        {
          "output_type": "execute_result",
          "data": {
            "text/plain": [
              "True"
            ]
          },
          "metadata": {
            "tags": []
          },
          "execution_count": 8
        }
      ]
    },
    {
      "cell_type": "code",
      "metadata": {
        "id": "NDqcqozumgP6",
        "outputId": "cfc03c63-4601-44c1-94df-78b782a406a1",
        "colab": {
          "base_uri": "https://localhost:8080/"
        }
      },
      "source": [
        "a == b*2"
      ],
      "execution_count": 9,
      "outputs": [
        {
          "output_type": "execute_result",
          "data": {
            "text/plain": [
              "True"
            ]
          },
          "metadata": {
            "tags": []
          },
          "execution_count": 9
        }
      ]
    },
    {
      "cell_type": "code",
      "metadata": {
        "id": "q3tzf6SVmgP7",
        "outputId": "9a3550a6-68d0-4dc5-92f9-e83cca77229f",
        "colab": {
          "base_uri": "https://localhost:8080/"
        }
      },
      "source": [
        "\"Hola\" == \"Hola\""
      ],
      "execution_count": 10,
      "outputs": [
        {
          "output_type": "execute_result",
          "data": {
            "text/plain": [
              "True"
            ]
          },
          "metadata": {
            "tags": []
          },
          "execution_count": 10
        }
      ]
    },
    {
      "cell_type": "code",
      "metadata": {
        "id": "ldEeRy_CmgP7",
        "outputId": "3418d54d-74a9-4a33-8bd1-53c52ccd3577",
        "colab": {
          "base_uri": "https://localhost:8080/"
        }
      },
      "source": [
        "\"Hola\" != \"Hola\""
      ],
      "execution_count": 11,
      "outputs": [
        {
          "output_type": "execute_result",
          "data": {
            "text/plain": [
              "False"
            ]
          },
          "metadata": {
            "tags": []
          },
          "execution_count": 11
        }
      ]
    },
    {
      "cell_type": "code",
      "metadata": {
        "id": "zDavv5bMmgP7",
        "outputId": "2fe5040b-8f3e-4e69-99eb-170027e451d2",
        "colab": {
          "base_uri": "https://localhost:8080/"
        }
      },
      "source": [
        "c = \"Hola\"\n",
        "c[0] == \"H\""
      ],
      "execution_count": 12,
      "outputs": [
        {
          "output_type": "execute_result",
          "data": {
            "text/plain": [
              "True"
            ]
          },
          "metadata": {
            "tags": []
          },
          "execution_count": 12
        }
      ]
    },
    {
      "cell_type": "code",
      "metadata": {
        "id": "nIFFO7ZpmgP8",
        "outputId": "624d93fd-b4f7-4b9c-890f-d13a57d8c686",
        "colab": {
          "base_uri": "https://localhost:8080/"
        }
      },
      "source": [
        "c[-1] == \"a\""
      ],
      "execution_count": 13,
      "outputs": [
        {
          "output_type": "execute_result",
          "data": {
            "text/plain": [
              "True"
            ]
          },
          "metadata": {
            "tags": []
          },
          "execution_count": 13
        }
      ]
    },
    {
      "cell_type": "code",
      "metadata": {
        "id": "ngR3msU4mgP8",
        "outputId": "1225fa76-bb68-4df0-a1c2-0b464f5b868b",
        "colab": {
          "base_uri": "https://localhost:8080/"
        }
      },
      "source": [
        "L1 = [0,1,2]\n",
        "L2 = [3,4,5]\n",
        "\n",
        "L1 == L2"
      ],
      "execution_count": 14,
      "outputs": [
        {
          "output_type": "execute_result",
          "data": {
            "text/plain": [
              "False"
            ]
          },
          "metadata": {
            "tags": []
          },
          "execution_count": 14
        }
      ]
    },
    {
      "cell_type": "code",
      "metadata": {
        "id": "zsPjXbIAmgP8",
        "outputId": "ed69d055-9ad5-45d9-8946-f3d81f06910c",
        "colab": {
          "base_uri": "https://localhost:8080/"
        }
      },
      "source": [
        "print(L1)\n",
        "print(L2)"
      ],
      "execution_count": 15,
      "outputs": [
        {
          "output_type": "stream",
          "text": [
            "[0, 1, 2]\n",
            "[3, 4, 5]\n"
          ],
          "name": "stdout"
        }
      ]
    },
    {
      "cell_type": "code",
      "metadata": {
        "id": "q1CmTucgmgP9",
        "outputId": "bdd44ceb-d91e-4277-8d3f-d77c73cc4969",
        "colab": {
          "base_uri": "https://localhost:8080/"
        }
      },
      "source": [
        "len(L1) == len(L2)"
      ],
      "execution_count": 16,
      "outputs": [
        {
          "output_type": "execute_result",
          "data": {
            "text/plain": [
              "True"
            ]
          },
          "metadata": {
            "tags": []
          },
          "execution_count": 16
        }
      ]
    },
    {
      "cell_type": "code",
      "metadata": {
        "id": "Elvnr5LtmgP9",
        "outputId": "a5f336fa-9afa-44c0-c010-2d8dfbe0ac05",
        "colab": {
          "base_uri": "https://localhost:8080/"
        }
      },
      "source": [
        "L1[0] = 3\n",
        "L1"
      ],
      "execution_count": 17,
      "outputs": [
        {
          "output_type": "execute_result",
          "data": {
            "text/plain": [
              "[3, 1, 2]"
            ]
          },
          "metadata": {
            "tags": []
          },
          "execution_count": 17
        }
      ]
    },
    {
      "cell_type": "code",
      "metadata": {
        "id": "FnCdGVtEmgP9",
        "outputId": "567a7fa4-02c8-4f10-f7db-67478228a553",
        "colab": {
          "base_uri": "https://localhost:8080/"
        }
      },
      "source": [
        "L1[0] == L2[0]"
      ],
      "execution_count": 18,
      "outputs": [
        {
          "output_type": "execute_result",
          "data": {
            "text/plain": [
              "True"
            ]
          },
          "metadata": {
            "tags": []
          },
          "execution_count": 18
        }
      ]
    },
    {
      "cell_type": "code",
      "metadata": {
        "id": "HMylhz1AmgP9",
        "outputId": "4dbeb54f-ada0-48ac-bcc2-3b226e01e831",
        "colab": {
          "base_uri": "https://localhost:8080/"
        }
      },
      "source": [
        "True == True"
      ],
      "execution_count": 19,
      "outputs": [
        {
          "output_type": "execute_result",
          "data": {
            "text/plain": [
              "True"
            ]
          },
          "metadata": {
            "tags": []
          },
          "execution_count": 19
        }
      ]
    },
    {
      "cell_type": "code",
      "metadata": {
        "id": "5DCe8mQkmgP-",
        "outputId": "559d29b8-ae33-41dd-c416-75f323610771",
        "colab": {
          "base_uri": "https://localhost:8080/"
        }
      },
      "source": [
        "False != True"
      ],
      "execution_count": 20,
      "outputs": [
        {
          "output_type": "execute_result",
          "data": {
            "text/plain": [
              "True"
            ]
          },
          "metadata": {
            "tags": []
          },
          "execution_count": 20
        }
      ]
    },
    {
      "cell_type": "code",
      "metadata": {
        "id": "BDXxtjGWmgP-",
        "outputId": "7d3947a8-bdf1-400a-8fe7-265639c57446",
        "colab": {
          "base_uri": "https://localhost:8080/"
        }
      },
      "source": [
        "True < False # 1 < 0"
      ],
      "execution_count": 21,
      "outputs": [
        {
          "output_type": "execute_result",
          "data": {
            "text/plain": [
              "False"
            ]
          },
          "metadata": {
            "tags": []
          },
          "execution_count": 21
        }
      ]
    },
    {
      "cell_type": "code",
      "metadata": {
        "id": "TjMZ9rPimgP-",
        "outputId": "6915ddb7-e7ef-470a-a47f-b48e821d007e",
        "colab": {
          "base_uri": "https://localhost:8080/"
        }
      },
      "source": [
        "False == True"
      ],
      "execution_count": 22,
      "outputs": [
        {
          "output_type": "execute_result",
          "data": {
            "text/plain": [
              "False"
            ]
          },
          "metadata": {
            "tags": []
          },
          "execution_count": 22
        }
      ]
    },
    {
      "cell_type": "code",
      "metadata": {
        "id": "BA3tHy75mgP_",
        "outputId": "07972bfb-18e7-47be-b4d3-feb5288f320f",
        "colab": {
          "base_uri": "https://localhost:8080/"
        }
      },
      "source": [
        "True > False"
      ],
      "execution_count": 23,
      "outputs": [
        {
          "output_type": "execute_result",
          "data": {
            "text/plain": [
              "True"
            ]
          },
          "metadata": {
            "tags": []
          },
          "execution_count": 23
        }
      ]
    },
    {
      "cell_type": "code",
      "metadata": {
        "id": "YKtINWgkmgP_"
      },
      "source": [
        ""
      ],
      "execution_count": 23,
      "outputs": []
    }
  ]
}