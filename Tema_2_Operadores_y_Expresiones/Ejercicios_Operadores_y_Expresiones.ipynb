{
  "nbformat": 4,
  "nbformat_minor": 0,
  "metadata": {
    "anaconda-cloud": {},
    "kernelspec": {
      "display_name": "Python 3",
      "language": "python",
      "name": "python3"
    },
    "language_info": {
      "codemirror_mode": {
        "name": "ipython",
        "version": 3
      },
      "file_extension": ".py",
      "mimetype": "text/x-python",
      "name": "python",
      "nbconvert_exporter": "python",
      "pygments_lexer": "ipython3",
      "version": "3.8.5"
    },
    "colab": {
      "name": "EJERCICIOS_OPERADORES_Y.ipynb",
      "provenance": [],
      "include_colab_link": true
    }
  },
  "cells": [
    {
      "cell_type": "markdown",
      "metadata": {
        "id": "view-in-github",
        "colab_type": "text"
      },
      "source": [
        "<a href=\"https://colab.research.google.com/github/nadiemedicejose/SeminarioProgramacion/blob/master/Tema_2_Operadores_y_Expresiones/Ejercicios_Operadores_y_Expresiones.ipynb\" target=\"_parent\"><img src=\"https://colab.research.google.com/assets/colab-badge.svg\" alt=\"Open In Colab\"/></a>"
      ]
    },
    {
      "cell_type": "markdown",
      "metadata": {
        "id": "X3AmwUcTmk49"
      },
      "source": [
        "# Ejercicios: Operadores y expresiones (Enunciados)\n"
      ]
    },
    {
      "cell_type": "markdown",
      "metadata": {
        "id": "zJBSKad8mk5A"
      },
      "source": [
        "1) Realiza un programa que lea 2 números por teclado y determine los siguientes aspectos:\n",
        "\n",
        "        1.\tSi los dos números son iguales\n",
        "        2.\tSi los dos números son diferentes\n",
        "        3.\tSi el primero es mayor que el segundo\n",
        "        4.\tSi el segundo es mayor o igual que el primero\n",
        "\n",
        "Nota: Es suficiente con mostrar True o False\n"
      ]
    },
    {
      "cell_type": "code",
      "metadata": {
        "colab": {
          "base_uri": "https://localhost:8080/"
        },
        "id": "rcM0vADRmk5A",
        "outputId": "63a0f602-a7e4-42f4-9dad-89502970fe17"
      },
      "source": [
        "# Completa el ejercicio aquí\n",
        "num1 = int(input(\"Ingresa el primer número: \"))\n",
        "num2 = int(input(\"Ingresa el segundo número: \"))\n",
        "\n",
        "print(\"\\n¿Ambos números son iguales? \", num1 == num2)\n",
        "print(\"¿Los números son diferentes? \", num1 != num2)\n",
        "print(\"¿El primer número es mayor que el segundo? \", num1 > num2)\n",
        "print(\"¿El segundo número es mayor que el primero? \", num1 < num2)"
      ],
      "execution_count": 1,
      "outputs": [
        {
          "output_type": "stream",
          "text": [
            "Ingresa el primer número: 24\n",
            "Ingresa el segundo número: 36\n",
            "\n",
            "¿Ambos números son iguales?  False\n",
            "¿Los números son diferentes?  True\n",
            "¿El primer número es mayor que el segundo?  False\n",
            "¿El segundo número es mayor que el primero?  True\n"
          ],
          "name": "stdout"
        }
      ]
    },
    {
      "cell_type": "markdown",
      "metadata": {
        "id": "UZ3ltE1Umk5B"
      },
      "source": [
        "2) Utilizando operadores lógicos, determina si una cadena de texto introducida por el usuario:\n",
        "\n",
        "        •\tTiene una longitud mayor o igual que 3 \n",
        "        •\tY a su vez es menor que 10\n",
        "        •\tEs suficiente con mostrar True o False):\n"
      ]
    },
    {
      "cell_type": "code",
      "metadata": {
        "colab": {
          "base_uri": "https://localhost:8080/"
        },
        "id": "OuoOSv0Xmk5C",
        "outputId": "cc34d9bb-dbde-4b9e-c700-e01776e3fc60"
      },
      "source": [
        "# Completa el ejercicio aquí\n",
        "cadena = input(\"Introduce un texto: \")\n",
        "\n",
        "print(\"\\n¿Tiene una longitud mayor o igual que 3? \", len(cadena) >= 3)\n",
        "print(\"A su vez, ¿es menor que 10? \", len(cadena) < 10)"
      ],
      "execution_count": 2,
      "outputs": [
        {
          "output_type": "stream",
          "text": [
            "Introduce un texto: Hey\n",
            "\n",
            "¿Tiene una longitud mayor o igual que 3?  True\n",
            "A su vez, ¿es menor que 10?  True\n"
          ],
          "name": "stdout"
        }
      ]
    },
    {
      "cell_type": "markdown",
      "metadata": {
        "id": "f7dX_KAJmk5C"
      },
      "source": [
        "3) Realiza un programa que cumpla el siguiente algoritmo utilizando siempre que sea posible operadores en asignación:\n",
        "\n",
        "1.\tGuarda en una variable numero_m el valor 12345679 (sin el 8)\n",
        "2.\tLee por pantalla otro número y guardalo en la variable con el nombre numero_usuario, específica que sea entre 1 y 9 (asegúrate que es un número)\n",
        "3.\tMultiplica el numero_usuario por 9 en si mismo\n",
        "4.\tMultiplica el numero_m por el numero_usuario en si mismo\n",
        "5.\tFinalmente muestra el valor final del numero_magico por pantalla\n",
        "\n",
        "Nota: El resultado deberá ser la impresion por pantalla del mismo número nueve veces\n"
      ]
    },
    {
      "cell_type": "code",
      "metadata": {
        "colab": {
          "base_uri": "https://localhost:8080/"
        },
        "id": "_7tkmQWImk5D",
        "outputId": "04823db7-574d-41d2-af8d-9fd92732cd11"
      },
      "source": [
        "# Completa el ejercicio aquí\n",
        "numero_m = 12345679\n",
        "numero_usuario = int(input(\"Ingresa un número entre 1 y 9: \"))\n",
        "numero_usuario *= 9\n",
        "numero_m *= numero_usuario\n",
        "print(\"Número mágico: \", numero_m)"
      ],
      "execution_count": 3,
      "outputs": [
        {
          "output_type": "stream",
          "text": [
            "Ingresa un número entre 1 y 9: 8\n",
            "Número mágico:  888888888\n"
          ],
          "name": "stdout"
        }
      ]
    }
  ]
}