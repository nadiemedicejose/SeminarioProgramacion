{
  "nbformat": 4,
  "nbformat_minor": 0,
  "metadata": {
    "kernelspec": {
      "display_name": "Python 3",
      "language": "python",
      "name": "python3"
    },
    "language_info": {
      "codemirror_mode": {
        "name": "ipython",
        "version": 3
      },
      "file_extension": ".py",
      "mimetype": "text/x-python",
      "name": "python",
      "nbconvert_exporter": "python",
      "pygments_lexer": "ipython3",
      "version": "3.8.5"
    },
    "colab": {
      "name": "Lección 4. Expresiones Anidadas.ipynb",
      "provenance": [],
      "include_colab_link": true
    }
  },
  "cells": [
    {
      "cell_type": "markdown",
      "metadata": {
        "id": "view-in-github",
        "colab_type": "text"
      },
      "source": [
        "<a href=\"https://colab.research.google.com/github/nadiemedicejose/SeminarioProgramacion/blob/master/Tema_2_Operadores_y_Expresiones/Lecci%C3%B3n_4_Expresiones_Anidadas.ipynb\" target=\"_parent\"><img src=\"https://colab.research.google.com/assets/colab-badge.svg\" alt=\"Open In Colab\"/></a>"
      ]
    },
    {
      "cell_type": "code",
      "metadata": {
        "id": "Y25up5IGmiqn",
        "outputId": "abcc6f30-860c-4aef-831f-359b34427063",
        "colab": {
          "base_uri": "https://localhost:8080/"
        }
      },
      "source": [
        "a = 10\n",
        "b = 5\n",
        "a * b-2**b >= 20 and not(a%b) != 0"
      ],
      "execution_count": 1,
      "outputs": [
        {
          "output_type": "execute_result",
          "data": {
            "text/plain": [
              "False"
            ]
          },
          "metadata": {
            "tags": []
          },
          "execution_count": 1
        }
      ]
    },
    {
      "cell_type": "markdown",
      "metadata": {
        "id": "v865FunAmiqr"
      },
      "source": [
        "Explicación:\n",
        "\n",
        "1. 10 * 5 - 2**5 >= 20 and not 0 != 0\n",
        "2. 10 * 5 - 32 >= 20 and not 0 != 0\n",
        "3. 50 - 32 >= 20 and not 0 != 0\n",
        "4. 18 >= 20 and not 0 != 0\n",
        "5. False and not False\n",
        "6. False and True\n",
        "7. False"
      ]
    }
  ]
}